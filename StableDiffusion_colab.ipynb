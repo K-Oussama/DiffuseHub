{
 "cells": [
  {
   "attachments": {},
   "cell_type": "markdown",
   "metadata": {},
   "source": [
    "## Setup WEB UI"
   ]
  },
  {
   "cell_type": "code",
   "execution_count": null,
   "metadata": {},
   "outputs": [],
   "source": [
    "!apt install -qq libunwind8-dev\n",
    "!apt install -qq libcairo2-dev pkg-config python3-dev\n",
    "!pip install --upgrade fastapi==0.90.1\n",
    "!pip install torch==1.13.1+cu116 torchvision==0.14.1+cu116 torchaudio==0.13.1 torchtext==0.14.1 torchdata==0.5.1 --extra-index-url https://download.pytorch.org/whl/cu116 -U"
   ]
  },
  {
   "cell_type": "code",
   "execution_count": null,
   "metadata": {},
   "outputs": [],
   "source": [
    "!curl -Lo memfix.zip https://github.com/K-Oussama/DiffuseHub/raw/main/memfix.zip\n",
    "!unzip /content/memfix.zip\n",
    "!dpkg -i *.deb\n",
    "%env LD_PRELOAD=libtcmalloc.so\n",
    "!rm *"
   ]
  },
  {
   "cell_type": "code",
   "execution_count": null,
   "metadata": {},
   "outputs": [],
   "source": [
    "%cd /content\n",
    "!git clone https://github.com/K-Oussama/stable-diffusion-webui.git"
   ]
  },
  {
   "attachments": {},
   "cell_type": "markdown",
   "metadata": {},
   "source": [
    "## Models"
   ]
  },
  {
   "attachments": {},
   "cell_type": "markdown",
   "metadata": {},
   "source": [
    "### Model Code"
   ]
  },
  {
   "cell_type": "code",
   "execution_count": null,
   "metadata": {},
   "outputs": [],
   "source": [
    "#Uncomment one or many to Download&Use\n",
    "\n",
    "#!curl -Lo /content/Stable-diffusion/ModelCode/chilloutmixni.safetensors https://huggingface.co/K-Oussama/Stable-diffusion/resolve/main/chilloutmixni.safetensors\n",
    "#!curl -Lo /content/Stable-diffusion/ModelCode/majicmixrealistic.safetensors https://huggingface.co/K-Oussama/Stable-diffusion/resolve/main/majicmixrealistic.safetensors\n",
    "#!curl -Lo /content/Stable-diffusion/ModelCode/babes.safetensors https://huggingface.co/K-Oussama/Stable-diffusion/resolve/main/babes.safetensors\n",
    "#!curl -Lo /content/Stable-diffusion/ModelCode/babes.vae.pt https://huggingface.co/K-Oussama/Stable-diffusion/resolve/main/babes.vae.pt\n",
    "#!curl -Lo /content/Stable-diffusion/ModelCode/realisticvisionv2.0.safetensors https://huggingface.co/K-Oussama/Stable-diffusion/resolve/main/realisticvisionv2.0.safetensors\n",
    "#!curl -Lo /content/Stable-diffusion/ModelCode/realisticvisionv2.0.vae.pt https://huggingface.co/K-Oussama/Stable-diffusion/resolve/main/realisticvisionv2.0.vae.pt\n",
    "#!curl -Lo /content/Stable-diffusion/ModelCode/bra.safetensors https://huggingface.co/K-Oussama/Stable-diffusion/resolve/main/bra.safetensors\n",
    "#!curl -Lo /content/Stable-diffusion/ModelCode/anythingv5.safetensors https://huggingface.co/K-Oussama/Stable-diffusion/resolve/main/anythingv5.safetensors\n",
    "#!curl -Lo /content/Stable-diffusion/ModelCode/abyssorangemix/abyssorangemix2.safetensors https://huggingface.co/K-Oussama/Stable-diffusion/resolve/main/abyssorangemix/abyssorangemix2.safetensors\n",
    "#!curl -Lo /content/Stable-diffusion/ModelCode/abyssorangemix/abyssorangemix2.vae.pt https://huggingface.co/K-Oussama/Stable-diffusion/resolve/main/abyssorangemix/abyssorangemix2.vae.pt\n",
    "#!curl -Lo /content/Stable-diffusion/ModelCode/abyssorangemix/abyssorangemix3.safetensors https://huggingface.co/K-Oussama/Stable-diffusion/resolve/main/abyssorangemix/abyssorangemix3.safetensors\n",
    "#!curl -Lo /content/Stable-diffusion/ModelCode/abyssorangemix/abyssorangemix3.vae.pt https://huggingface.co/K-Oussama/Stable-diffusion/resolve/main/abyssorangemix/abyssorangemix3.vae.pt\n",
    "#!curl -Lo /content/Stable-diffusion/ModelCode/abyssorangemix/abyssorangemix3A1.safetensors https://huggingface.co/K-Oussama/Stable-diffusion/resolve/main/abyssorangemix/abyssorangemix3A1.safetensors\n",
    "#!curl -Lo /content/Stable-diffusion/ModelCode/abyssorangemix/abyssorangemix3A1.vae.pt https://huggingface.co/K-Oussama/Stable-diffusion/resolve/main/abyssorangemix/abyssorangemix3A1.vae.pt\n",
    "#!curl -Lo /content/Stable-diffusion/ModelCode/abyssorangemix/abyssorangemix3A1B.safetensors https://huggingface.co/K-Oussama/Stable-diffusion/resolve/main/abyssorangemix/abyssorangemix3A1B.safetensors\n",
    "#!curl -Lo /content/Stable-diffusion/ModelCode/abyssorangemix/abyssorangemix3A1.vae.pt https://huggingface.co/K-Oussama/Stable-diffusion/resolve/main/abyssorangemix/abyssorangemix3A1.vae.pt\n",
    "#!curl -Lo /content/Stable-diffusion/ModelCode/abyssorangemix/abyssorangemix3A2.safetensors https://huggingface.co/K-Oussama/Stable-diffusion/resolve/main/abyssorangemix/abyssorangemix3A2.safetensors\n",
    "#!curl -Lo /content/Stable-diffusion/ModelCode/abyssorangemix/abyssorangemix3A2.vae.pt https://huggingface.co/K-Oussama/Stable-diffusion/resolve/main/abyssorangemix/abyssorangemix3A2.vae.pt\n",
    "#!curl -Lo /content/Stable-diffusion/ModelCode/abyssorangemix/abyssorangemix3A3.safetensors https://huggingface.co/K-Oussama/Stable-diffusion/resolve/main/abyssorangemix/abyssorangemix3A3.safetensors\n",
    "#!curl -Lo /content/Stable-diffusion/ModelCode/abyssorangemix/abyssorangemix3A3.vae.pt https://huggingface.co/K-Oussama/Stable-diffusion/resolve/main/abyssorangemix/abyssorangemix3A3.vae.pt\n",
    "#!curl -Lo /content/Stable-diffusion/ModelCode/acertainthing.ckpt https://huggingface.co/K-Oussama/Stable-diffusion/resolve/main/acertainthing.ckpt\n",
    "#!curl -Lo /content/Stable-diffusion/ModelCode/aeros.ckpt https://huggingface.co/K-Oussama/Stable-diffusion/resolve/main/aeros.ckpt\n",
    "#!curl -Lo /content/Stable-diffusion/ModelCode/aeros.vae.pt https://huggingface.co/K-Oussama/Stable-diffusion/resolve/main/aeros.vae.pt\n",
    "#!curl -Lo /content/Stable-diffusion/ModelCode/ai1px.ckpt https://huggingface.co/K-Oussama/Stable-diffusion/resolve/main/ai1px.ckpt\n",
    "#!curl -Lo /content/Stable-diffusion/ModelCode/allysmix.ckpt https://huggingface.co/K-Oussama/Stable-diffusion/resolve/main//allysmix.ckpt\n",
    "#!curl -Lo /content/Stable-diffusion/ModelCode/anythingv4.5.ckpt https://huggingface.co/K-Oussama/Stable-diffusion/resolve/main/anythingv4.5.ckpt\n",
    "#!curl -Lo /content/Stable-diffusion/ModelCode/anythingv4.5.vae.pt https://huggingface.co/K-Oussama/Stable-diffusion/resolve/main/anythingv4.5.vae.pt\n",
    "#!curl -Lo /content/Stable-diffusion/ModelCode/anyssa.ckpt https://huggingface.co/K-Oussama/Stable-diffusion/resolve/main/anyssa.ckpt\n",
    "#!curl -Lo /content/Stable-diffusion/ModelCode/anyssa.vae.pt https://huggingface.co/K-Oussama/Stable-diffusion/resolve/main/anyssa.vae.pt\n",
    "#!curl -Lo /content/Stable-diffusion/ModelCode/comicdiffusionv2.ckpt https://huggingface.co/K-Oussama/Stable-diffusion/resolve/main/comicdiffusionv2.ckpt\n",
    "#!curl -Lo /content/Stable-diffusion/ModelCode/darksushimix.safetensors https://huggingface.co/K-Oussama/Stable-diffusion/resolve/main/darksushimix.safetensors\n",
    "#!curl -Lo /content/Stable-diffusion/ModelCode/darksushimix.vae.pt https://huggingface.co/K-Oussama/Stable-diffusion/resolve/main/darksushimix.vae.pt\n",
    "#!curl -Lo /content/Stable-diffusion/ModelCode/deliberatev2.ckpt https://huggingface.co/K-Oussama/Stable-diffusion/resolve/main/deliberatev2.ckpt\n",
    "#!curl -Lo /content/Stable-diffusion/ModelCode/dosmix.safetensors https://huggingface.co/K-Oussama/Stable-diffusion/resolve/main/dosmix.safetensors\n",
    "#!curl -Lo /content/Stable-diffusion/ModelCode/dosmix.vae.pt https://huggingface.co/K-Oussama/Stable-diffusion/resolve/main/dosmix.vae.pt\n",
    "#!curl -Lo /content/Stable-diffusion/ModelCode/dreamlike.ckpt https://huggingface.co/K-Oussama/Stable-diffusion/resolve/main/dreamlike.ckpt\n",
    "#!curl -Lo /content/Stable-diffusion/ModelCode/dreamlikephotoreal2.ckpt https://huggingface.co/K-Oussama/Stable-diffusion/resolve/main/dreamlikephotoreal2.ckpt\n",
    "#!curl -Lo /content/Stable-diffusion/ModelCode/dreamlikesamkuvshinov.safetensors https://huggingface.co/K-Oussama/Stable-diffusion/resolve/main/dreamlikesamkuvshinov.safetensors\n",
    "#!curl -Lo /content/Stable-diffusion/ModelCode/dreamshaper5.safetensors https://huggingface.co/K-Oussama/Stable-diffusion/resolve/main/dreamshaper5.safetensors\n",
    "#!curl -Lo /content/Stable-diffusion/ModelCode/eimis.ckpt https://huggingface.co/K-Oussama/Stable-diffusion/resolve/main/eimis.ckpt\n",
    "#!curl -Lo /content/Stable-diffusion/ModelCode/elldrethslucidmix.ckpt https://huggingface.co/K-Oussama/Stable-diffusion/resolve/main/elldrethslucidmix.ckpt\n",
    "#!curl -Lo /content/Stable-diffusion/ModelCode/epihyperphotogodess.ckpt https://huggingface.co/K-Oussama/Stable-diffusion/resolve/main/epihyperphotogodess.ckpt\n",
    "#!curl -Lo /content/Stable-diffusion/ModelCode/epihyperphotogodess.vae.pt https://huggingface.co/K-Oussama/Stable-diffusion/resolve/main/epihyperphotogodess.vae.pt\n",
    "#!curl -Lo /content/Stable-diffusion/ModelCode/expmixlinev2.safetensors https://huggingface.co/K-Oussama/Stable-diffusion/resolve/main/expmixlinev2.safetensors\n",
    "#!curl -Lo /content/Stable-diffusion/ModelCode/expmixlinev2.vae.pt https://huggingface.co/K-Oussama/Stable-diffusion/resolve/main/expmixlinev2.vae.pt\n",
    "#!curl -Lo /content/Stable-diffusion/ModelCode/yesmix.safetensors https://huggingface.co/K-Oussama/Stable-diffusion/resolve/main/yesmix.safetensors\n",
    "#!curl -Lo /content/Stable-diffusion/ModelCode/future.ckpt https://huggingface.co/K-Oussama/Stable-diffusion/resolve/main/future.ckpt\n",
    "#!curl -Lo /content/Stable-diffusion/ModelCode/future.yaml https://huggingface.co/K-Oussama/Stable-diffusion/resolve/main/future.yaml\n",
    "#!curl -Lo /content/Stable-diffusion/ModelCode/based64.safetensors https://huggingface.co/K-Oussama/Stable-diffusion/resolve/main/based64.safetensors\n",
    "#!curl -Lo /content/Stable-diffusion/ModelCode/based64.vae.pt https://huggingface.co/K-Oussama/Stable-diffusion/resolve/main/based64.vae.pt\n",
    "#!curl -Lo /content/Stable-diffusion/ModelCode/grapefruitv4.1.safetensors https://huggingface.co/K-Oussama/Stable-diffusion/resolve/main/grapefruitv4.1.safetensors\n",
    "#!curl -Lo /content/Stable-diffusion/ModelCode/corneos7thheavenmix.safetensors https://huggingface.co/K-Oussama/Stable-diffusion/resolve/main/corneos7thheavenmix.safetensors\n",
    "#!curl -Lo /content/Stable-diffusion/ModelCode/corneos7thheavenmix.vae.pt https://huggingface.co/K-Oussama/Stable-diffusion/resolve/main/corneos7thheavenmix.vae.pt\n",
    "#!curl -Lo /content/Stable-diffusion/ModelCode/hassaku.safetensors https://huggingface.co/K-Oussama/Stable-diffusion/resolve/main/hassaku.safetensors\n",
    "#!curl -Lo /content/Stable-diffusion/ModelCode/hb1.5.1.2.safetensors https://huggingface.co/K-Oussama/Stable-diffusion/resolve/main/hb1.5.1.2.safetensors\n",
    "#!curl -Lo /content/Stable-diffusion/ModelCode/hb1.5.1.2.vae.pt https://huggingface.co/K-Oussama/Stable-diffusion/resolve/main/hb1.5.1.2.vae.pt\n",
    "#!curl -Lo /content/Stable-diffusion/ModelCode/healysanimeblend.ckpt https://huggingface.co/K-Oussama/Stable-diffusion/resolve/main/healysanimeblend.ckpt\n",
    "#!curl -Lo /content/Stable-diffusion/ModelCode/henmixreal.safetensors https://huggingface.co/K-Oussama/Stable-diffusion/resolve/main/henmixreal.safetensors\n",
    "#!curl -Lo /content/Stable-diffusion/ModelCode/henmixreal.vae.pt https://huggingface.co/K-Oussama/Stable-diffusion/resolve/main/henmixreal.vae.pt\n",
    "#!curl -Lo /content/Stable-diffusion/ModelCode/kotosmix.safetensors https://huggingface.co/K-Oussama/Stable-diffusion/resolve/main/kotosmix.safetensors\n",
    "#!curl -Lo /content/Stable-diffusion/ModelCode/kotosmix.vae.pt https://huggingface.co/K-Oussama/Stable-diffusion/resolve/main/kotosmix.vae.pt\n",
    "#!curl -Lo /content/Stable-diffusion/ModelCode/liberty.safetensors https://huggingface.co/K-Oussama/Stable-diffusion/resolve/main/liberty.safetensors\n",
    "#!curl -Lo /content/Stable-diffusion/ModelCode/lofi.safetensors https://huggingface.co/K-Oussama/Stable-diffusion/resolve/main/lofi.safetensors\n",
    "#!curl -Lo /content/Stable-diffusion/ModelCode/meinahentai.safetensors https://huggingface.co/K-Oussama/Stable-diffusion/resolve/main/meinahentai.safetensors\n",
    "#!curl -Lo /content/Stable-diffusion/ModelCode/anylora.safetensors https://huggingface.co/K-Oussama/Stable-diffusion/resolve/main/anylora.safetensors\n",
    "#!curl -Lo /content/Stable-diffusion/ModelCode/neverendingdreamnedbakedvae.safetensors https://huggingface.co/K-Oussama/Stable-diffusion/resolve/main/neverendingdreamnedbakedvae.safetensors\n",
    "#!curl -Lo /content/Stable-diffusion/ModelCode/openjourney.ckpt https://huggingface.co/K-Oussama/Stable-diffusion/resolve/main/openjourney.ckpt\n",
    "#!curl -Lo /content/Stable-diffusion/ModelCode/openjourneyv4.ckpt https://huggingface.co/K-Oussama/Stable-diffusion/resolve/main/openjourneyv4.ckpt\n",
    "#!curl -Lo /content/Stable-diffusion/ModelCode/openjourneyv4.ckpt https://huggingface.co/K-Oussama/Stable-diffusion/resolve/main/openjourneyv4.ckpt\n",
    "#!curl -Lo /content/Stable-diffusion/ModelCode/AbyssOrangeMix2_nsfw.safetensors https://huggingface.co/K-Oussama/Stable-diffusion/resolve/main/AbyssOrangeMix2_nsfw.safetensors\n",
    "#!curl -Lo /content/Stable-diffusion/ModelCode/padoru.ckpt https://huggingface.co/K-Oussama/Stable-diffusion/resolve/main/padoru.ckpt\n",
    "#!curl -Lo /content/Stable-diffusion/ModelCode/perfectworld.safetensors https://huggingface.co/K-Oussama/Stable-diffusion/resolve/main/perfectworld.safetensors\n",
    "#!curl -Lo /content/Stable-diffusion/ModelCode/pokemon.ckpt https://huggingface.co/K-Oussama/Stable-diffusion/resolve/main/pokemon.ckpt\n",
    "#!curl -Lo /content/Stable-diffusion/ModelCode/corneos7thheavenmix.safetensors https://huggingface.co/K-Oussama/Stable-diffusion/resolve/main/corneos7thheavenmix.safetensors\n",
    "#!curl -Lo /content/Stable-diffusion/ModelCode/corneos7thheavenmix.vae.pt https://huggingface.co/K-Oussama/Stable-diffusion/resolve/main/corneos7thheavenmix.vae.pt\n",
    "#!curl -Lo /content/Stable-diffusion/ModelCode/protogendragon.ckpt https://huggingface.co/K-Oussama/Stable-diffusion/resolve/main/protogendragon.ckpt\n",
    "#!curl -Lo /content/Stable-diffusion/ModelCode/protogendragon.vae.pt https://huggingface.co/K-Oussama/Stable-diffusion/resolve/main/protogendragon.vae.pt\n",
    "#!curl -Lo /content/Stable-diffusion/ModelCode/protogenx5.8.ckpt https://huggingface.co/K-Oussama/Stable-diffusion/resolve/main/protogenx5.8.ckpt\n",
    "#!curl -Lo /content/Stable-diffusion/ModelCode/protogenx5.8.vae.pt https://huggingface.co/K-Oussama/Stable-diffusion/resolve/main/protogenx5.8.vae.pt\n",
    "#!curl -Lo /content/Stable-diffusion/ModelCode/chilloutmixni.safetensors https://huggingface.co/K-Oussama/Stable-diffusion/resolve/main/chilloutmixni.safetensors\n",
    "#!curl -Lo /content/Stable-diffusion/ModelCode/samdoessexy.safetensors https://huggingface.co/K-Oussama/Stable-diffusion/resolve/main/samdoessexy.safetensors\n",
    "#!curl -Lo /content/Stable-diffusion/ModelCode/samdoesartv3.ckpt https://huggingface.co/K-Oussama/Stable-diffusion/resolve/main/samdoesartv3.ckpt\n",
    "#!curl -Lo /content/Stable-diffusion/ModelCode/sunlightmix.safetensors https://huggingface.co/K-Oussama/Stable-diffusion/resolve/main/sunlightmix.safetensors\n",
    "#!curl -Lo /content/Stable-diffusion/ModelCode/sunshinemix.safetensors https://huggingface.co/K-Oussama/Stable-diffusion/resolve/main/sunshinemix.safetensors\n",
    "#!curl -Lo /content/Stable-diffusion/ModelCode/synthwavepunkv2.ckpt https://huggingface.co/K-Oussama/Stable-diffusion/resolve/main/synthwavepunkv2.ckpt\n",
    "#!curl -Lo /content/Stable-diffusion/ModelCode/yiffymix.ckpt https://huggingface.co/K-Oussama/Stable-diffusion/resolve/main/yiffymix.ckpt\n",
    "#!curl -Lo /content/Stable-diffusion/ModelCode/yiffymix.vae.pt https://huggingface.co/K-Oussama/Stable-diffusion/resolve/main/yiffymix.vae.pt"
   ]
  },
  {
   "attachments": {},
   "cell_type": "markdown",
   "metadata": {},
   "source": [
    "### ControlNet"
   ]
  },
  {
   "cell_type": "code",
   "execution_count": null,
   "metadata": {},
   "outputs": [],
   "source": [
    "## ControlNet\n",
    "\n",
    "#!curl -Lo /content/Stable-diffusion/ControlNet/control_v11e_sd15_ip2p.safetensors https://huggingface.co/K-Oussama/Stable-diffusion/resolve/main/ControlNet/control_v11e_sd15_ip2p.safetensors\n",
    "#!curl -Lo /content/Stable-diffusion/ControlNet/control_v11e_sd15_shuffle.safetensors https://huggingface.co/K-Oussama/Stable-diffusion/resolve/main/ControlNet/control_v11e_sd15_shuffle.safetensors\n",
    "#!curl -Lo /content/Stable-diffusion/ControlNet/control_v11p_sd15_canny.safetensors https://huggingface.co/K-Oussama/Stable-diffusion/resolve/main/ControlNet/control_v11p_sd15_canny.safetensors\n",
    "#!curl -Lo /content/Stable-diffusion/ControlNet/control_v11f1p_sd15_depth.safetensors https://huggingface.co/K-Oussama/Stable-diffusion/resolve/main/ControlNet/control_v11f1p_sd15_depth.safetensors\n",
    "#!curl -Lo /content/Stable-diffusion/ControlNet/control_v11p_sd15_inpaint.safetensors https://huggingface.co/K-Oussama/Stable-diffusion/resolve/main/ControlNet/control_v11p_sd15_inpaint.safetensors\n",
    "#!curl -Lo /content/Stable-diffusion/ControlNet/control_v11p_sd15_lineart.safetensors https://huggingface.co/K-Oussama/Stable-diffusion/resolve/main/ControlNet/control_v11p_sd15_lineart.safetensors\n",
    "#!curl -Lo /content/Stable-diffusion/ControlNet/control_v11p_sd15_mlsd.safetensors https://huggingface.co/K-Oussama/Stable-diffusion/resolve/main/ControlNet/control_v11p_sd15_mlsd.safetensors\n",
    "#!curl -Lo /content/Stable-diffusion/ControlNet/control_v11p_sd15_normalbae.safetensors https://huggingface.co/K-Oussama/Stable-diffusion/resolve/main/ControlNet/control_v11p_sd15_normalbae.safetensors\n",
    "#!curl -Lo /content/Stable-diffusion/ControlNet/control_v11p_sd15_openpose.safetensors https://huggingface.co/K-Oussama/Stable-diffusion/resolve/main/ControlNet/control_v11p_sd15_openpose.safetensors\n",
    "#!curl -Lo /content/Stable-diffusion/ControlNet/control_v11p_sd15_scribble.safetensors https://huggingface.co/K-Oussama/Stable-diffusion/resolve/main/ControlNet/control_v11p_sd15_scribble.safetensors\n",
    "#!curl -Lo /content/Stable-diffusion/ControlNet/control_v11p_sd15_seg.safetensors https://huggingface.co/K-Oussama/Stable-diffusion/resolve/main/ControlNet/control_v11p_sd15_seg.safetensors\n",
    "#!curl -Lo /content/Stable-diffusion/ControlNet/control_v11p_sd15_softedge.safetensors https://huggingface.co/K-Oussama/Stable-diffusion/resolve/main/ControlNet/control_v11p_sd15_softedge.safetensors\n",
    "#!curl -Lo /content/Stable-diffusion/ControlNet/control_v11p_sd15s2_lineart_anime.safetensors https://huggingface.co/K-Oussama/Stable-diffusion/resolve/main/ControlNet/control_v11p_sd15s2_lineart_anime.safetensors\n",
    "#!curl -Lo /content/Stable-diffusion/ControlNet/control_v11f1e_sd15_tile.safetensors https://huggingface.co/K-Oussama/Stable-diffusion/resolve/main/ControlNet/control_v11f1e_sd15_tile.safetensors\n",
    "#!curl -Lo /content/Stable-diffusion/ControlNet/t2iadapter_canny_sd14v1.pth https://huggingface.co/K-Oussama/Stable-diffusion/resolve/main/ControlNet/t2iadapter_canny_sd14v1.pth\n",
    "#!curl -Lo /content/Stable-diffusion/ControlNet/t2iadapter_color_sd14v1.pth https://huggingface.co/K-Oussama/Stable-diffusion/resolve/main/ControlNet/t2iadapter_color_sd14v1.pth\n",
    "#!curl -Lo /content/Stable-diffusion/ControlNet/t2iadapter_depth_sd14v1.pth https://huggingface.co/K-Oussama/Stable-diffusion/resolve/main/ControlNet/t2iadapter_depth_sd14v1.pth\n",
    "#!curl -Lo /content/Stable-diffusion/ControlNet/t2iadapter_keypose_sd14v1.pth https://huggingface.co/K-Oussama/Stable-diffusion/resolve/main/ControlNet/t2iadapter_keypose_sd14v1.pth\n",
    "#!curl -Lo /content/Stable-diffusion/ControlNet/t2iadapter_openpose_sd14v1.pth https://huggingface.co/K-Oussama/Stable-diffusion/resolve/main/ControlNet/t2iadapter_openpose_sd14v1.pth\n",
    "#!curl -Lo /content/Stable-diffusion/ControlNet/t2iadapter_seg_sd14v1.pth https://huggingface.co/K-Oussama/Stable-diffusion/resolve/main/ControlNet/t2iadapter_seg_sd14v1.pth\n",
    "#!curl -Lo /content/Stable-diffusion/ControlNet/t2iadapter_sketch_sd14v1.pth https://huggingface.co/K-Oussama/Stable-diffusion/resolve/main/ControlNet/t2iadapter_sketch_sd14v1.pth\n",
    "#!curl -Lo /content/Stable-diffusion/ControlNet/t2iadapter_style_sd14v1.pth https://huggingface.co/K-Oussama/Stable-diffusion/resolve/main/ControlNet/t2iadapter_style_sd14v1.pth\n"
   ]
  },
  {
   "attachments": {},
   "cell_type": "markdown",
   "metadata": {},
   "source": [
    "### Lora"
   ]
  },
  {
   "cell_type": "code",
   "execution_count": null,
   "metadata": {},
   "outputs": [],
   "source": [
    "#Lora : Uncomment one or many to Download&Use\n",
    "\n",
    "#!curl -Lo /content/Stable-diffusion/Lora/chilloutmix_NiPrunedFp32Fix.safetensors https://huggingface.co/K-Oussama/Stable-diffusion/resolve/main/Lora/chilloutmix_NiPrunedFp32Fix.safetensors\n",
    "#!curl -Lo /content/Stable-diffusion/Lora/breastinClass.safetensors https://huggingface.co/K-Oussama/Stable-diffusion/resolve/main/Lora/breastinClass.safetensors\n",
    "#!curl -Lo /content/Stable-diffusion/Lora/koreanDollLikeness_v15.safetensors https://huggingface.co/K-Oussama/Stable-diffusion/resolve/main/Lora/koreanDollLikeness_v15.safetensors\n",
    "#!curl -Lo /content/Stable-diffusion/Lora/japaneseDollLikeness_v10.safetensors https://huggingface.co/K-Oussama/Stable-diffusion/resolve/main/Lora/japaneseDollLikeness_v10.safetensors\n",
    "#!curl -Lo /content/Stable-diffusion/Lora/taiwanDollLikeness_v10.safetensors https://huggingface.co/K-Oussama/Stable-diffusion/resolve/main/Lora/taiwanDollLikeness_v10.safetensors\n",
    "#!curl -Lo /content/Stable-diffusion/Lora/russianDollLikeness.safetensors https://huggingface.co/K-Oussama/Stable-diffusion/resolve/main/Lora/russianDollLikeness.safetensors\n",
    "#!curl -Lo /content/Stable-diffusion/Lora/zumidrawsstyle.safetensors https://huggingface.co/K-Oussama/Stable-diffusion/resolve/main/Lora/zumidrawsstyle.safetensors\n",
    "#!curl -Lo /content/Stable-diffusion/Lora/wlopstyle.safetensors https://huggingface.co/K-Oussama/Stable-diffusion/resolve/main/Lora/wlopstyle.safetensors\n",
    "#!curl -Lo /content/Stable-diffusion/Lora/ghibli_style_offset.safetensors https://huggingface.co/K-Oussama/Stable-diffusion/resolve/main/Lora/ghibli_style_offset.safetensors\n",
    "#!curl -Lo /content/Stable-diffusion/Lora/stlouisluxuriouswheels.safetensors https://huggingface.co/K-Oussama/Stable-diffusion/resolve/main/Lora/stlouisluxuriouswheels.safetensors\n",
    "#!curl -Lo /content/Stable-diffusion/Lora/fashiongirl.safetensors https://huggingface.co/K-Oussama/Stable-diffusion/resolve/main/Lora/fashiongirl.safetensors\n",
    "#!curl -Lo /content/Stable-diffusion/Lora/shojovibe.safetensors https://huggingface.co/K-Oussama/Stable-diffusion/resolve/main/Lora/shojovibe.safetensors\n",
    "#!curl -Lo /content/Stable-diffusion/Lora/shirtlift.safetensors https://huggingface.co/K-Oussama/Stable-diffusion/resolve/main/Lora/shirtlift.safetensors\n",
    "#!curl -Lo /content/Stable-diffusion/Lora/saori-v1.0.safetensors https://huggingface.co/K-Oussama/Stable-diffusion/resolve/main/Lora/saori-v1.0.safetensors\n",
    "#!curl -Lo /content/Stable-diffusion/Lora/rizdrawsstyle.safetensors https://huggingface.co/K-Oussama/Stable-diffusion/resolve/main/Lora/rizdrawsstyle.safetensors\n",
    "#!curl -Lo /content/Stable-diffusion/Lora/riasgremory.safetensors https://huggingface.co/K-Oussama/Stable-diffusion/resolve/main/Lora/riasgremory.safetensors\n",
    "#!curl -Lo /content/Stable-diffusion/Lora/rebuildOfEvangelion_v4b-26.safetensors https://huggingface.co/K-Oussama/Stable-diffusion/resolve/main/Lora/rebuildOfEvangelion_v4b-26.safetensors\n",
    "#!curl -Lo /content/Stable-diffusion/Lora/ratatatat74style.safetensors https://huggingface.co/K-Oussama/Stable-diffusion/resolve/main/Lora/ratatatat74style.safetensors\n",
    "#!curl -Lo /content/Stable-diffusion/Lora/raidenShogunRealistic_raidenshogun.safetensors https://huggingface.co/K-Oussama/Stable-diffusion/resolve/main/Lora/raidenShogunRealistic_raidenshogun.safetensors\n",
    "#!curl -Lo /content/Stable-diffusion/Lora/middleFingerLORA_midfingv1.safetensors https://huggingface.co/K-Oussama/Stable-diffusion/resolve/main/Lora/middleFingerLORA_midfingv1.safetensors\n",
    "#!curl -Lo /content/Stable-diffusion/Lora/Gun2HeadV3.safetensors https://huggingface.co/K-Oussama/Stable-diffusion/resolve/main/Lora/Gun2HeadV3.safetensors\n",
    "#!curl -Lo /content/Stable-diffusion/Lora/PSCowgirl.safetensors https://huggingface.co/K-Oussama/Stable-diffusion/resolve/main/Lora/PSCowgirl.safetensors\n",
    "#!curl -Lo /content/Stable-diffusion/Lora/fashigirlv4.7.safetensors https://huggingface.co/K-Oussama/Stable-diffusion/resolve/main/Lora/fashigirlv4.7.safetensors\n",
    "#!curl -Lo /content/Stable-diffusion/Lora/wanostyle_2.safetensors https://huggingface.co/K-Oussama/Stable-diffusion/resolve/main/Lora/wanostyle_2.safetensors\n",
    "#!curl -Lo /content/Stable-diffusion/Lora/KM_NarutoS-V2.safetensors https://huggingface.co/K-Oussama/Stable-diffusion/resolve/main/Lora/KM_NarutoS-V2.safetensors\n",
    "#!curl -Lo /content/Stable-diffusion/Lora/liyuu.safetensors https://huggingface.co/K-Oussama/Stable-diffusion/resolve/main/Lora/liyuu.safetensors\n",
    "#!curl -Lo /content/Stable-diffusion/Lora/jimleestyle.safetensors https://huggingface.co/K-Oussama/Stable-diffusion/resolve/main/Lora/jimleestyle.safetensors\n",
    "#!curl -Lo /content/Stable-diffusion/Lora/innievag.safetensors https://huggingface.co/K-Oussama/Stable-diffusion/resolve/main/Lora/innievag.safetensors\n",
    "#!curl -Lo /content/Stable-diffusion/Lora/incaseStyleLora_incaseAnythingV3Lora.safetensors https://huggingface.co/K-Oussama/Stable-diffusion/resolve/main/Lora/incaseStyleLora_incaseAnythingV3Lora.safetensors\n",
    "#!curl -Lo /content/Stable-diffusion/Lora/hyperbreasts.ckpt https://huggingface.co/K-Oussama/Stable-diffusion/resolve/main/Lora/hyperbreasts.ckpt\n",
    "#!curl -Lo /content/Stable-diffusion/Lora/gachasplash.safetensors https://huggingface.co/K-Oussama/Stable-diffusion/resolve/main/Lora/gachasplash.safetensors\n",
    "#!curl -Lo /content/Stable-diffusion/Lora/eulaRealisticGenshin_10.safetensors https://huggingface.co/K-Oussama/Stable-diffusion/resolve/main/Lora/eulaRealisticGenshin_10.safetensors\n",
    "#!curl -Lo /content/Stable-diffusion/Lora/epiNoiseoffset_v2.safetensors https://huggingface.co/K-Oussama/Stable-diffusion/resolve/main/Lora/epiNoiseoffset_v2.safetensors\n",
    "#!curl -Lo /content/Stable-diffusion/Lora/mix4.safetensors https://huggingface.co/K-Oussama/Stable-diffusion/resolve/main/Lora/mix4.safetensors\n",
    "#!curl -Lo /content/Stable-diffusion/Lora/chineseβmalelikeness3.safetensors https://huggingface.co/K-Oussama/Stable-diffusion/resolve/main/Lora/chineseβmalelikeness3.safetensors\n",
    "#!curl -Lo /content/Stable-diffusion/Lora/blindbox.safetensors https://huggingface.co/K-Oussama/Stable-diffusion/resolve/main/Lora/blindbox.safetensors\n",
    "#!curl -Lo /content/Stable-diffusion/Lora/animetarotcardartstyle.safetensors https://huggingface.co/K-Oussama/Stable-diffusion/resolve/main/Lora/animetarotcardartstyle.safetensors\n",
    "#!curl -Lo /content/Stable-diffusion/Lora/anime_screencap_v2-000030.safetensors https://huggingface.co/K-Oussama/Stable-diffusion/resolve/main/Lora/anime_screencap_v2-000030.safetensors\n",
    "#!curl -Lo /content/Stable-diffusion/Lora/animeLineartMangaLike_v30MangaLike.safetensors https://huggingface.co/K-Oussama/Stable-diffusion/resolve/main/LoraanimeLineartMangaLike_v30MangaLike.safetensors\n",
    "#!curl -Lo /content/Stable-diffusion/Lora/IU.safetensors https://huggingface.co/K-Oussama/Stable-diffusion/resolve/main/Lora/IU.safetensors\n",
    "#!curl -Lo /content/Stable-diffusion/Lora/rinoquaslora.safetensors https://huggingface.co/K-Oussama/Stable-diffusion/resolve/main/Lora/rinoquaslora.safetensors\n",
    "#!curl -Lo /content/Stable-diffusion/Lora/prncsszldlora.safetensors https://huggingface.co/K-Oussama/Stable-diffusion/resolve/main/Lora/prncsszldlora.safetensors\n",
    "#!curl -Lo /content/Stable-diffusion/Lora/lccybrpnkdgrnnrslora.safetensors https://huggingface.co/K-Oussama/Stable-diffusion/resolve/main/Lora/lccybrpnkdgrnnrslora.safetensors\n",
    "#!curl -Lo /content/Stable-diffusion/Lora/at80slora.safetensors https://huggingface.co/K-Oussama/Stable-diffusion/resolve/main/Lora/at80slora.safetensors\n"
   ]
  },
  {
   "attachments": {},
   "cell_type": "markdown",
   "metadata": {},
   "source": [
    "### ESRGAN"
   ]
  },
  {
   "cell_type": "code",
   "execution_count": null,
   "metadata": {},
   "outputs": [],
   "source": [
    "#!curl -Lo /content/Stable-diffusion/ESRGAN/4x-UltraSharp.pth https://huggingface.co/K-Oussama/Stable-diffusion/resolve/main/ESRGAN/4x-UltraSharp.pth\n",
    "#!curl -Lo /content/Stable-diffusion/ESRGAN/4x_foolhardy_Remacri.pth https://huggingface.co/K-Oussama/Stable-diffusion/resolve/main/ESRGAN/4x_foolhardy_Remacri.pth\n"
   ]
  },
  {
   "attachments": {},
   "cell_type": "markdown",
   "metadata": {},
   "source": [
    "## RUN sd-webui"
   ]
  },
  {
   "cell_type": "code",
   "execution_count": null,
   "metadata": {},
   "outputs": [],
   "source": [
    "# Web UI tunnel\n",
    "!COMMANDLINE_ARGS=\"--share --disable-safe-unpickle --no-half-vae --xformers --reinstall-xformers --enable-insecure-extension --gradio-queue\" REQS_FILE=\"requirements.txt\" python launch.py\n",
    "\n",
    "# Use this command below to use cloudflare tunnel\n",
    "#!COMMANDLINE_ARGS=\"--disable-safe-unpickle --no-half-vae --xformers --reinstall-xformers --enable-insecure-extension --gradio-queue --cloudflared\" REQS_FILE=\"requirements.txt\" python launch.py"
   ]
  }
 ],
 "metadata": {
  "language_info": {
   "name": "python"
  },
  "orig_nbformat": 4
 },
 "nbformat": 4,
 "nbformat_minor": 2
}
