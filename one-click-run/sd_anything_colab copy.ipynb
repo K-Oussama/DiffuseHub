{
 "cells": [
  {
   "attachments": {},
   "cell_type": "markdown",
   "metadata": {},
   "source": [
    "# <center>Stable Diffusion Playground (Gradio)</center>"
   ]
  },
  {
   "attachments": {},
   "cell_type": "markdown",
   "metadata": {},
   "source": [
    "[![Open In Colab](https://colab.research.google.com/assets/colab-badge.svg)](https://colab.research.google.com/github/K-Oussama/DiffuseHub/blob/main/one-click-run/sd_chilloutmixni_colab.ipynb)\n"
   ]
  },
  {
   "attachments": {},
   "cell_type": "markdown",
   "metadata": {},
   "source": [
    "## GPU Check"
   ]
  },
  {
   "cell_type": "code",
   "execution_count": null,
   "metadata": {},
   "outputs": [],
   "source": [
    "# GPU Check\n",
    "import subprocess\n",
    "\n",
    "\n",
    "# @markdown The system checks for a compatible GPU with enough memory and installs necessary Python packages during setup.\n",
    "# Run the nvidia-smi command to get the VRAM information\n",
    "result = subprocess.run([\"nvidia-smi\", \"--query-gpu=name,memory.total,memory.free\",\n",
    "                        \"--format=csv,noheader\"], capture_output=True, check=True)\n",
    "\n",
    "# Split the output by newline characters to get a list of VRAM info for each GPU\n",
    "vram_info = result.stdout.decode(\"utf-8\").strip().split(\"\\n\")\n",
    "\n",
    "# Parse the VRAM info for each GPU\n",
    "for info in vram_info:\n",
    "    name, total, free = info.split(\",\")\n",
    "    total = int(total.strip().split()[0])  # Total VRAM in MB\n",
    "    free = int(free.strip().split()[0])  # Free VRAM in MB\n",
    "\n",
    "    print(f\"GPU: {name}, Total VRAM: {total} MB, Free VRAM: {free} MB\")\n",
    "\n",
    "if total < 8192:  # 8192MB is equivalent to 8GB\n",
    "    # Display an error message in red text\n",
    "    print(\"\\033[91mError: Not enough VRAM available. Please change the runtime to a GPU with at least 8GB VRAM.\\033[0m\")\n",
    "    raise SystemExit\n",
    "else:\n",
    "    print(\"\\033[92mYou have enough VRAM to continue\\033[0m\")"
   ]
  },
  {
   "attachments": {},
   "cell_type": "markdown",
   "metadata": {},
   "source": [
    "## Setup Env"
   ]
  },
  {
   "cell_type": "code",
   "execution_count": null,
   "metadata": {},
   "outputs": [],
   "source": [
    "!apt install -qq libunwind8-dev\n",
    "!apt install -qq libcairo2-dev pkg-config python3-dev\n",
    "!pip install --upgrade fastapi==0.90.1\n",
    "!pip install torch==2.0.0+cu117 torchvision torchaudio torchtext torchdata --extra-index-url https://download.pytorch.org/whl/cu117 -U"
   ]
  },
  {
   "cell_type": "code",
   "execution_count": null,
   "metadata": {},
   "outputs": [],
   "source": [
    "!curl -Lo memfix.zip https://github.com/K-Oussama/DiffuseHub/raw/main/utils/memfix.zip\n",
    "!unzip /content/memfix.zip\n",
    "!dpkg -i *.deb\n",
    "%env LD_PRELOAD=libtcmalloc.so\n",
    "!rm *"
   ]
  },
  {
   "attachments": {},
   "cell_type": "markdown",
   "metadata": {},
   "source": [
    "## Setup WEB UI"
   ]
  },
  {
   "attachments": {},
   "cell_type": "markdown",
   "metadata": {},
   "source": [
    "stable-diffusion-webui repo"
   ]
  },
  {
   "cell_type": "code",
   "execution_count": null,
   "metadata": {},
   "outputs": [],
   "source": [
    "%cd /content"
   ]
  },
  {
   "attachments": {},
   "cell_type": "markdown",
   "metadata": {},
   "source": [
    "`!git clone https://github.com/K-Oussama/stable-diffusion-webui.git`\n",
    "\n",
    "Didn't use this command because it triggers google colab warning of a non authorized code\n",
    "\n",
    "Small trick to bypass the warning"
   ]
  },
  {
   "cell_type": "code",
   "execution_count": null,
   "metadata": {},
   "outputs": [],
   "source": [
    "%cd /content/\n",
    "!curl -Lo /content/sd-webui.zip https://huggingface.co/K-Oussama/Stable-diffusion/resolve/main/utils/sd_web.zip\n",
    "!unzip sd-webui.zip\n",
    "!rm /content/sd-webui.zip"
   ]
  },
  {
   "attachments": {},
   "cell_type": "markdown",
   "metadata": {},
   "source": [
    "Mandatory extensions"
   ]
  },
  {
   "cell_type": "code",
   "execution_count": null,
   "metadata": {},
   "outputs": [],
   "source": [
    "!curl -Lo /content/sd-webui-tunnels.zip https://huggingface.co/K-Oussama/Stable-diffusion/resolve/main/extensions/sd-webui-tunnels.zip\n",
    "!unzip /content/sd-webui-tunnels.zip -d /content/sd-webui/extensions/sd-webui-tunnels\n",
    "!rm /content/sd-webui-tunnels.zip\n",
    "\n",
    "!curl -Lo /content/sd-webui-controlnet.zip https://huggingface.co/K-Oussama/Stable-diffusion/resolve/main/extensions/sd-webui-controlnet.zip\n",
    "!unzip /content/sd-webui-controlnet.zip -d /content/sd-webui/extensions/sd-webui-controlnet\n",
    "!rm /content/sd-webui-controlnet.zip"
   ]
  },
  {
   "attachments": {},
   "cell_type": "markdown",
   "metadata": {},
   "source": [
    "Optional extensions"
   ]
  },
  {
   "cell_type": "code",
   "execution_count": null,
   "metadata": {},
   "outputs": [],
   "source": [
    "#!git clone "
   ]
  },
  {
   "attachments": {},
   "cell_type": "markdown",
   "metadata": {},
   "source": [
    "Embeddings"
   ]
  },
  {
   "cell_type": "code",
   "execution_count": null,
   "metadata": {},
   "outputs": [],
   "source": [
    "!curl -Lo /content/embeddings.zip https://huggingface.co/K-Oussama/Stable-diffusion/resolve/main/embeddings.zip\n",
    "!unzip -o /content/embeddings.zip -d /content/sd-webui/\n",
    "!rm /content/embeddings.zip"
   ]
  },
  {
   "attachments": {},
   "cell_type": "markdown",
   "metadata": {},
   "source": [
    "## Models"
   ]
  },
  {
   "attachments": {},
   "cell_type": "markdown",
   "metadata": {},
   "source": [
    "### Model Code"
   ]
  },
  {
   "cell_type": "code",
   "execution_count": null,
   "metadata": {},
   "outputs": [],
   "source": [
    "#!curl -Lo /content/sd-webui/models/Stable-diffusion/chilloutmixni.safetensors https://huggingface.co/K-Oussama/Stable-diffusion/resolve/main/ModelCode/chilloutmixni.safetensors\n",
    "#!curl -Lo /content/sd-webui/models/Stable-diffusion/anythingv4.5.ckpt https://huggingface.co/K-Oussama/Stable-diffusion/resolve/main/ModelCode/anythingv4.5.ckpt\n",
    "#!curl -Lo /content/sd-webui/models/Stable-diffusion/anythingv4.5.vae.pt https://huggingface.co/K-Oussama/Stable-diffusion/resolve/main/ModelCode/anythingv4.5.vae.pt\n",
    "!curl -Lo /content/sd-webui/models/Stable-diffusion/anythingv5.safetensors https://huggingface.co/K-Oussama/Stable-diffusion/resolve/main/ModelCode/anythingv5.safetensors"
   ]
  },
  {
   "attachments": {},
   "cell_type": "markdown",
   "metadata": {},
   "source": [
    "### ControlNet"
   ]
  },
  {
   "cell_type": "code",
   "execution_count": null,
   "metadata": {},
   "outputs": [],
   "source": [
    "## ControlNet : Uncomment one or many to Download&Use\n",
    "\n",
    "#!curl -Lo /content/sd-webui/extensions/sd-webui-controlnet/models/control_v11e_sd15_ip2p.safetensors https://huggingface.co/K-Oussama/Stable-diffusion/resolve/main/ControlNet/control_v11e_sd15_ip2p.safetensors\n",
    "#!curl -Lo /content/sd-webui/extensions/sd-webui-controlnet/models/control_v11e_sd15_shuffle.safetensors https://huggingface.co/K-Oussama/Stable-diffusion/resolve/main/ControlNet/control_v11e_sd15_shuffle.safetensors\n",
    "#!curl -Lo /content/sd-webui/extensions/sd-webui-controlnet/models/control_v11p_sd15_canny.safetensors https://huggingface.co/K-Oussama/Stable-diffusion/resolve/main/ControlNet/control_v11p_sd15_canny.safetensors\n",
    "#!curl -Lo /content/sd-webui/extensions/sd-webui-controlnet/models/control_v11f1p_sd15_depth.safetensors https://huggingface.co/K-Oussama/Stable-diffusion/resolve/main/ControlNet/control_v11f1p_sd15_depth.safetensors\n",
    "#!curl -Lo /content/sd-webui/extensions/sd-webui-controlnet/models/control_v11p_sd15_inpaint.safetensors https://huggingface.co/K-Oussama/Stable-diffusion/resolve/main/ControlNet/control_v11p_sd15_inpaint.safetensors\n",
    "#!curl -Lo /content/sd-webui/extensions/sd-webui-controlnet/models/control_v11p_sd15_lineart.safetensors https://huggingface.co/K-Oussama/Stable-diffusion/resolve/main/ControlNet/control_v11p_sd15_lineart.safetensors\n",
    "#!curl -Lo /content/sd-webui/extensions/sd-webui-controlnet/models/control_v11p_sd15_mlsd.safetensors https://huggingface.co/K-Oussama/Stable-diffusion/resolve/main/ControlNet/control_v11p_sd15_mlsd.safetensors\n",
    "#!curl -Lo /content/sd-webui/extensions/sd-webui-controlnet/models/control_v11p_sd15_normalbae.safetensors https://huggingface.co/K-Oussama/Stable-diffusion/resolve/main/ControlNet/control_v11p_sd15_normalbae.safetensors\n",
    "#!curl -Lo /content/sd-webui/extensions/sd-webui-controlnet/models/control_v11p_sd15_openpose.safetensors https://huggingface.co/K-Oussama/Stable-diffusion/resolve/main/ControlNet/control_v11p_sd15_openpose.safetensors\n",
    "#!curl -Lo /content/sd-webui/extensions/sd-webui-controlnet/models/control_v11p_sd15_scribble.safetensors https://huggingface.co/K-Oussama/Stable-diffusion/resolve/main/ControlNet/control_v11p_sd15_scribble.safetensors\n",
    "#!curl -Lo /content/sd-webui/extensions/sd-webui-controlnet/models/control_v11p_sd15_seg.safetensors https://huggingface.co/K-Oussama/Stable-diffusion/resolve/main/ControlNet/control_v11p_sd15_seg.safetensors\n",
    "#!curl -Lo /content/sd-webui/extensions/sd-webui-controlnet/models/control_v11p_sd15_softedge.safetensors https://huggingface.co/K-Oussama/Stable-diffusion/resolve/main/ControlNet/control_v11p_sd15_softedge.safetensors\n",
    "#!curl -Lo /content/sd-webui/extensions/sd-webui-controlnet/models/control_v11p_sd15s2_lineart_anime.safetensors https://huggingface.co/K-Oussama/Stable-diffusion/resolve/main/ControlNet/control_v11p_sd15s2_lineart_anime.safetensors\n",
    "#!curl -Lo /content/sd-webui/extensions/sd-webui-controlnet/models/control_v11f1e_sd15_tile.safetensors https://huggingface.co/K-Oussama/Stable-diffusion/resolve/main/ControlNet/control_v11f1e_sd15_tile.safetensors\n",
    "#!curl -Lo /content/sd-webui/extensions/sd-webui-controlnet/models/t2iadapter_canny_sd14v1.pth https://huggingface.co/K-Oussama/Stable-diffusion/resolve/main/ControlNet/t2iadapter_canny_sd14v1.pth\n",
    "#!curl -Lo /content/sd-webui/extensions/sd-webui-controlnet/models/t2iadapter_color_sd14v1.pth https://huggingface.co/K-Oussama/Stable-diffusion/resolve/main/ControlNet/t2iadapter_color_sd14v1.pth\n",
    "#!curl -Lo /content/sd-webui/extensions/sd-webui-controlnet/models/t2iadapter_depth_sd14v1.pth https://huggingface.co/K-Oussama/Stable-diffusion/resolve/main/ControlNet/t2iadapter_depth_sd14v1.pth\n",
    "#!curl -Lo /content/sd-webui/extensions/sd-webui-controlnet/models/t2iadapter_keypose_sd14v1.pth https://huggingface.co/K-Oussama/Stable-diffusion/resolve/main/ControlNet/t2iadapter_keypose_sd14v1.pth\n",
    "#!curl -Lo /content/sd-webui/extensions/sd-webui-controlnet/models/t2iadapter_openpose_sd14v1.pth https://huggingface.co/K-Oussama/Stable-diffusion/resolve/main/ControlNet/t2iadapter_openpose_sd14v1.pth\n",
    "#!curl -Lo /content/sd-webui/extensions/sd-webui-controlnet/models/t2iadapter_seg_sd14v1.pth https://huggingface.co/K-Oussama/Stable-diffusion/resolve/main/ControlNet/t2iadapter_seg_sd14v1.pth\n",
    "#!curl -Lo /content/sd-webui/extensions/sd-webui-controlnet/models/t2iadapter_sketch_sd14v1.pth https://huggingface.co/K-Oussama/Stable-diffusion/resolve/main/ControlNet/t2iadapter_sketch_sd14v1.pth\n",
    "#!curl -Lo /content/sd-webui/extensions/sd-webui-controlnet/models/t2iadapter_style_sd14v1.pth https://huggingface.co/K-Oussama/Stable-diffusion/resolve/main/ControlNet/t2iadapter_style_sd14v1.pth\n"
   ]
  },
  {
   "attachments": {},
   "cell_type": "markdown",
   "metadata": {},
   "source": [
    "### Lora"
   ]
  },
  {
   "cell_type": "code",
   "execution_count": null,
   "metadata": {},
   "outputs": [],
   "source": [
    "%mkdir /content/sd-webui/models/Lora\n",
    "!curl -Lo /content/sd-webui/models/Lora/chilloutmix_NiPrunedFp32Fix.safetensors https://huggingface.co/K-Oussama/Stable-diffusion/resolve/main/Lora/chilloutmix_NiPrunedFp32Fix.safetensors\n",
    "!curl -Lo /content/sd-webui/models/Lora/IU.safetensors https://huggingface.co/K-Oussama/Stable-diffusion/resolve/main/Lora/IU.safetensors"
   ]
  },
  {
   "attachments": {},
   "cell_type": "markdown",
   "metadata": {},
   "source": [
    "### ESRGAN"
   ]
  },
  {
   "cell_type": "code",
   "execution_count": null,
   "metadata": {},
   "outputs": [],
   "source": [
    "%mkdir /content/sd-webui/models/ESRGAN\n",
    "!curl -Lo /content/sd-webui/models/ESRGAN/4x-UltraSharp.pth https://huggingface.co/K-Oussama/Stable-diffusion/resolve/main/ESRGAN/4x-UltraSharp.pth\n",
    "!curl -Lo /content/sd-webui/models/ESRGAN/4x_foolhardy_Remacri.pth https://huggingface.co/K-Oussama/Stable-diffusion/resolve/main/ESRGAN/4x_foolhardy_Remacri.pth"
   ]
  },
  {
   "attachments": {},
   "cell_type": "markdown",
   "metadata": {},
   "source": [
    "## RUN sd-webui"
   ]
  },
  {
   "cell_type": "code",
   "execution_count": null,
   "metadata": {},
   "outputs": [],
   "source": [
    "%cd /content/sd-webui/"
   ]
  },
  {
   "cell_type": "code",
   "execution_count": null,
   "metadata": {},
   "outputs": [],
   "source": [
    "# Web UI tunnel\n",
    "!COMMANDLINE_ARGS=\"--share --disable-safe-unpickle --no-half-vae --xformers --reinstall-xformers --enable-insecure-extension --gradio-queue\" REQS_FILE=\"requirements.txt\" python launch.py\n",
    "\n",
    "# Use this command below to use cloudflare tunnel\n",
    "#!COMMANDLINE_ARGS=\"--disable-safe-unpickle --no-half-vae --xformers --reinstall-xformers --enable-insecure-extension --gradio-queue --cloudflared\" REQS_FILE=\"requirements.txt\" python launch.py"
   ]
  }
 ],
 "metadata": {
  "kernelspec": {
   "display_name": "base",
   "language": "python",
   "name": "python3"
  },
  "language_info": {
   "name": "python",
   "version": "3.9.13"
  },
  "orig_nbformat": 4
 },
 "nbformat": 4,
 "nbformat_minor": 2
}
